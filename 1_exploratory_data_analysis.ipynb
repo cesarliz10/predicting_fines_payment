{
 "cells": [
  {
   "cell_type": "markdown",
   "metadata": {},
   "source": [
    "## Assignment 4 - Understanding and Predicting Property Maintenance Fines\n",
    "\n",
    "This assignment is based on a data challenge from the Michigan Data Science Team ([MDST](http://midas.umich.edu/mdst/)). \n",
    "\n",
    "The Michigan Data Science Team ([MDST](http://midas.umich.edu/mdst/)) and the Michigan Student Symposium for Interdisciplinary Statistical Sciences ([MSSISS](https://sites.lsa.umich.edu/mssiss/)) have partnered with the City of Detroit to help solve one of the most pressing problems facing Detroit - blight. [Blight violations](http://www.detroitmi.gov/How-Do-I/Report/Blight-Complaint-FAQs) are issued by the city to individuals who allow their properties to remain in a deteriorated condition. Every year, the city of Detroit issues millions of dollars in fines to residents and every year, many of these fines remain unpaid. Enforcing unpaid blight fines is a costly and tedious process, so the city wants to know: how can we increase blight ticket compliance?\n",
    "\n",
    "The first step in answering this question is understanding when and why a resident might fail to comply with a blight ticket. This is where predictive modeling comes in. For this assignment, your task is to predict whether a given blight ticket will be paid on time.\n",
    "\n",
    "All data for this assignment has been provided to us through the [Detroit Open Data Portal](https://data.detroitmi.gov/). **Only the data already included in your Coursera directory can be used for training the model for this assignment.** Nonetheless, we encourage you to look into data from other Detroit datasets to help inform feature creation and model selection. We recommend taking a look at the following related datasets:\n",
    "\n",
    "* [Building Permits](https://data.detroitmi.gov/Property-Parcels/Building-Permits/xw2a-a7tf)\n",
    "* [Trades Permits](https://data.detroitmi.gov/Property-Parcels/Trades-Permits/635b-dsgv)\n",
    "* [Improve Detroit: Submitted Issues](https://data.detroitmi.gov/Government/Improve-Detroit-Submitted-Issues/fwz3-w3yn)\n",
    "* [DPD: Citizen Complaints](https://data.detroitmi.gov/Public-Safety/DPD-Citizen-Complaints-2016/kahe-efs3)\n",
    "* [Parcel Map](https://data.detroitmi.gov/Property-Parcels/Parcel-Map/fxkw-udwf)\n",
    "\n",
    "___\n",
    "\n",
    "We provide you with two data files for use in training and validating your models: train.csv and test.csv. Each row in these two files corresponds to a single blight ticket, and includes information about when, why, and to whom each ticket was issued. The target variable is compliance, which is True if the ticket was paid early, on time, or within one month of the hearing data, False if the ticket was paid after the hearing date or not at all, and Null if the violator was found not responsible. Compliance, as well as a handful of other variables that will not be available at test-time, are only included in train.csv.\n",
    "\n",
    "Note: All tickets where the violators were found not responsible are not considered during evaluation. They are included in the training set as an additional source of data for visualization, and to enable unsupervised and semi-supervised approaches. However, they are not included in the test set.\n",
    "\n",
    "<br>\n",
    "\n",
    "**File descriptions** (Use only this data for training your model!)\n",
    "\n",
    "    train.csv - the training set (all tickets issued 2004-2011)\n",
    "    test.csv - the test set (all tickets issued 2012-2016)\n",
    "    addresses.csv & latlons.csv - mapping from ticket id to addresses, and from addresses to lat/lon coordinates. \n",
    "     Note: misspelled addresses may be incorrectly geolocated.\n",
    "\n",
    "<br>\n",
    "\n",
    "**Data fields**\n",
    "\n",
    "train.csv & test.csv\n",
    "\n",
    "    ticket_id - unique identifier for tickets\n",
    "    agency_name - Agency that issued the ticket\n",
    "    inspector_name - Name of inspector that issued the ticket\n",
    "    violator_name - Name of the person/organization that the ticket was issued to\n",
    "    violation_street_number, violation_street_name, violation_zip_code - Address where the violation occurred\n",
    "    mailing_address_str_number, mailing_address_str_name, city, state, zip_code, non_us_str_code, country - Mailing address of the violator\n",
    "    ticket_issued_date - Date and time the ticket was issued\n",
    "    hearing_date - Date and time the violator's hearing was scheduled\n",
    "    violation_code, violation_description - Type of violation\n",
    "    disposition - Judgment and judgement type\n",
    "    fine_amount - Violation fine amount, excluding fees\n",
    "    admin_fee - $20 fee assigned to responsible judgments\n",
    "state_fee - $10 fee assigned to responsible judgments\n",
    "    late_fee - 10% fee assigned to responsible judgments\n",
    "    discount_amount - discount applied, if any\n",
    "    clean_up_cost - DPW clean-up or graffiti removal cost\n",
    "    judgment_amount - Sum of all fines and fees\n",
    "    grafitti_status - Flag for graffiti violations\n",
    "    \n",
    "    df.drop(columns=[\"inspector_name,violator_name,violation_street_number\"],inplace=True)\n",
    "\n",
    "\n",
    "train.csv only\n",
    "\n",
    "    payment_amount - Amount paid, if any\n",
    "    payment_date - Date payment was made, if it was received\n",
    "    payment_status - Current payment status as of Feb 1 2017\n",
    "    balance_due - Fines and fees still owed\n",
    "    collection_status - Flag for payments in collections\n",
    "    compliance [target variable for prediction] \n",
    "     Null = Not responsible\n",
    "     0 = Responsible, non-compliant\n",
    "     1 = Responsible, compliant\n",
    "    compliance_detail - More information on why each ticket was marked compliant or non-compliant\n",
    "\n",
    "\n",
    "___\n",
    "\n",
    "## Evaluation\n",
    "\n",
    "Your predictions will be given as the probability that the corresponding blight ticket will be paid on time.\n",
    "\n",
    "The evaluation metric for this assignment is the Area Under the ROC Curve (AUC). \n",
    "\n",
    "Your grade will be based on the AUC score computed for your classifier. A model which with an AUROC of 0.7 passes this assignment, over 0.75 will recieve full points.\n",
    "___\n",
    "\n",
    "For this assignment, create a function that trains a model to predict blight ticket compliance in Detroit using `train.csv`. Using this model, return a series of length 61001 with the data being the probability that each corresponding ticket from `test.csv` will be paid, and the index being the ticket_id.\n",
    "\n",
    "Example:\n",
    "\n",
    "    ticket_id\n",
    "       284932    0.531842\n",
    "       285362    0.401958\n",
    "       285361    0.105928\n",
    "       285338    0.018572\n",
    "                 ...\n",
    "       376499    0.208567\n",
    "       376500    0.818759\n",
    "       369851    0.018528\n",
    "       Name: compliance, dtype: float32"
   ]
  },
  {
   "cell_type": "code",
   "execution_count": 2,
   "metadata": {},
   "outputs": [
    {
     "name": "stderr",
     "output_type": "stream",
     "text": [
      "c:\\users\\c.lizarazosabogal\\appdata\\local\\programs\\python\\python35\\lib\\site-packages\\IPython\\core\\interactiveshell.py:2903: DtypeWarning: Columns (11,12,31) have mixed types. Specify dtype option on import or set low_memory=False.\n",
      "  if self.run_code(code, result):\n"
     ]
    },
    {
     "data": {
      "text/html": [
       "<div>\n",
       "<style scoped>\n",
       "    .dataframe tbody tr th:only-of-type {\n",
       "        vertical-align: middle;\n",
       "    }\n",
       "\n",
       "    .dataframe tbody tr th {\n",
       "        vertical-align: top;\n",
       "    }\n",
       "\n",
       "    .dataframe thead th {\n",
       "        text-align: right;\n",
       "    }\n",
       "</style>\n",
       "<table border=\"1\" class=\"dataframe\">\n",
       "  <thead>\n",
       "    <tr style=\"text-align: right;\">\n",
       "      <th></th>\n",
       "      <th>violation_street_number</th>\n",
       "      <th>violation_zip_code</th>\n",
       "      <th>mailing_address_str_number</th>\n",
       "      <th>fine_amount</th>\n",
       "      <th>admin_fee</th>\n",
       "      <th>state_fee</th>\n",
       "      <th>late_fee</th>\n",
       "      <th>discount_amount</th>\n",
       "      <th>clean_up_cost</th>\n",
       "      <th>judgment_amount</th>\n",
       "      <th>payment_amount</th>\n",
       "      <th>balance_due</th>\n",
       "      <th>compliance</th>\n",
       "    </tr>\n",
       "  </thead>\n",
       "  <tbody>\n",
       "    <tr>\n",
       "      <th>count</th>\n",
       "      <td>2.503060e+05</td>\n",
       "      <td>0.0</td>\n",
       "      <td>2.467040e+05</td>\n",
       "      <td>250305.000000</td>\n",
       "      <td>250306.000000</td>\n",
       "      <td>250306.000000</td>\n",
       "      <td>250306.000000</td>\n",
       "      <td>250306.000000</td>\n",
       "      <td>250306.0</td>\n",
       "      <td>250306.000000</td>\n",
       "      <td>250306.000000</td>\n",
       "      <td>250306.000000</td>\n",
       "      <td>159880.000000</td>\n",
       "    </tr>\n",
       "    <tr>\n",
       "      <th>mean</th>\n",
       "      <td>1.064986e+04</td>\n",
       "      <td>NaN</td>\n",
       "      <td>9.149788e+03</td>\n",
       "      <td>374.423435</td>\n",
       "      <td>12.774764</td>\n",
       "      <td>6.387382</td>\n",
       "      <td>21.494506</td>\n",
       "      <td>0.125167</td>\n",
       "      <td>0.0</td>\n",
       "      <td>268.685356</td>\n",
       "      <td>48.898986</td>\n",
       "      <td>222.449058</td>\n",
       "      <td>0.072536</td>\n",
       "    </tr>\n",
       "    <tr>\n",
       "      <th>std</th>\n",
       "      <td>3.188733e+04</td>\n",
       "      <td>NaN</td>\n",
       "      <td>3.602034e+04</td>\n",
       "      <td>707.195807</td>\n",
       "      <td>9.607344</td>\n",
       "      <td>4.803672</td>\n",
       "      <td>56.464263</td>\n",
       "      <td>3.430178</td>\n",
       "      <td>0.0</td>\n",
       "      <td>626.915212</td>\n",
       "      <td>222.422425</td>\n",
       "      <td>606.394010</td>\n",
       "      <td>0.259374</td>\n",
       "    </tr>\n",
       "    <tr>\n",
       "      <th>min</th>\n",
       "      <td>0.000000e+00</td>\n",
       "      <td>NaN</td>\n",
       "      <td>1.000000e+00</td>\n",
       "      <td>0.000000</td>\n",
       "      <td>0.000000</td>\n",
       "      <td>0.000000</td>\n",
       "      <td>0.000000</td>\n",
       "      <td>0.000000</td>\n",
       "      <td>0.0</td>\n",
       "      <td>0.000000</td>\n",
       "      <td>0.000000</td>\n",
       "      <td>-7750.000000</td>\n",
       "      <td>0.000000</td>\n",
       "    </tr>\n",
       "    <tr>\n",
       "      <th>25%</th>\n",
       "      <td>4.739000e+03</td>\n",
       "      <td>NaN</td>\n",
       "      <td>5.440000e+02</td>\n",
       "      <td>200.000000</td>\n",
       "      <td>0.000000</td>\n",
       "      <td>0.000000</td>\n",
       "      <td>0.000000</td>\n",
       "      <td>0.000000</td>\n",
       "      <td>0.0</td>\n",
       "      <td>0.000000</td>\n",
       "      <td>0.000000</td>\n",
       "      <td>0.000000</td>\n",
       "      <td>0.000000</td>\n",
       "    </tr>\n",
       "    <tr>\n",
       "      <th>50%</th>\n",
       "      <td>1.024400e+04</td>\n",
       "      <td>NaN</td>\n",
       "      <td>2.456000e+03</td>\n",
       "      <td>250.000000</td>\n",
       "      <td>20.000000</td>\n",
       "      <td>10.000000</td>\n",
       "      <td>10.000000</td>\n",
       "      <td>0.000000</td>\n",
       "      <td>0.0</td>\n",
       "      <td>140.000000</td>\n",
       "      <td>0.000000</td>\n",
       "      <td>25.000000</td>\n",
       "      <td>0.000000</td>\n",
       "    </tr>\n",
       "    <tr>\n",
       "      <th>75%</th>\n",
       "      <td>1.576000e+04</td>\n",
       "      <td>NaN</td>\n",
       "      <td>1.292725e+04</td>\n",
       "      <td>250.000000</td>\n",
       "      <td>20.000000</td>\n",
       "      <td>10.000000</td>\n",
       "      <td>25.000000</td>\n",
       "      <td>0.000000</td>\n",
       "      <td>0.0</td>\n",
       "      <td>305.000000</td>\n",
       "      <td>0.000000</td>\n",
       "      <td>305.000000</td>\n",
       "      <td>0.000000</td>\n",
       "    </tr>\n",
       "    <tr>\n",
       "      <th>max</th>\n",
       "      <td>1.415411e+07</td>\n",
       "      <td>NaN</td>\n",
       "      <td>5.111345e+06</td>\n",
       "      <td>10000.000000</td>\n",
       "      <td>20.000000</td>\n",
       "      <td>10.000000</td>\n",
       "      <td>1000.000000</td>\n",
       "      <td>350.000000</td>\n",
       "      <td>0.0</td>\n",
       "      <td>11030.000000</td>\n",
       "      <td>11075.000000</td>\n",
       "      <td>11030.000000</td>\n",
       "      <td>1.000000</td>\n",
       "    </tr>\n",
       "  </tbody>\n",
       "</table>\n",
       "</div>"
      ],
      "text/plain": [
       "       violation_street_number  violation_zip_code  \\\n",
       "count             2.503060e+05                 0.0   \n",
       "mean              1.064986e+04                 NaN   \n",
       "std               3.188733e+04                 NaN   \n",
       "min               0.000000e+00                 NaN   \n",
       "25%               4.739000e+03                 NaN   \n",
       "50%               1.024400e+04                 NaN   \n",
       "75%               1.576000e+04                 NaN   \n",
       "max               1.415411e+07                 NaN   \n",
       "\n",
       "       mailing_address_str_number    fine_amount      admin_fee  \\\n",
       "count                2.467040e+05  250305.000000  250306.000000   \n",
       "mean                 9.149788e+03     374.423435      12.774764   \n",
       "std                  3.602034e+04     707.195807       9.607344   \n",
       "min                  1.000000e+00       0.000000       0.000000   \n",
       "25%                  5.440000e+02     200.000000       0.000000   \n",
       "50%                  2.456000e+03     250.000000      20.000000   \n",
       "75%                  1.292725e+04     250.000000      20.000000   \n",
       "max                  5.111345e+06   10000.000000      20.000000   \n",
       "\n",
       "           state_fee       late_fee  discount_amount  clean_up_cost  \\\n",
       "count  250306.000000  250306.000000    250306.000000       250306.0   \n",
       "mean        6.387382      21.494506         0.125167            0.0   \n",
       "std         4.803672      56.464263         3.430178            0.0   \n",
       "min         0.000000       0.000000         0.000000            0.0   \n",
       "25%         0.000000       0.000000         0.000000            0.0   \n",
       "50%        10.000000      10.000000         0.000000            0.0   \n",
       "75%        10.000000      25.000000         0.000000            0.0   \n",
       "max        10.000000    1000.000000       350.000000            0.0   \n",
       "\n",
       "       judgment_amount  payment_amount    balance_due     compliance  \n",
       "count    250306.000000   250306.000000  250306.000000  159880.000000  \n",
       "mean        268.685356       48.898986     222.449058       0.072536  \n",
       "std         626.915212      222.422425     606.394010       0.259374  \n",
       "min           0.000000        0.000000   -7750.000000       0.000000  \n",
       "25%           0.000000        0.000000       0.000000       0.000000  \n",
       "50%         140.000000        0.000000      25.000000       0.000000  \n",
       "75%         305.000000        0.000000     305.000000       0.000000  \n",
       "max       11030.000000    11075.000000   11030.000000       1.000000  "
      ]
     },
     "execution_count": 2,
     "metadata": {},
     "output_type": "execute_result"
    }
   ],
   "source": [
    "import pandas as pd\n",
    "import numpy as np\n",
    "\n",
    "def blight_model():\n",
    "    \n",
    "    # Your code here\n",
    "    import datetime as dt\n",
    "    import matplotlib.pyplot as plt\n",
    "    import seaborn as sns\n",
    "    df = pd.read_csv(\"train.csv\",index_col=\"ticket_id\", encoding = \"ISO-8859-1\") \n",
    "    #df.set_index(\"ticket_id\",inplace=True)\n",
    "\n",
    "    return df # Your answer here\n",
    "df = blight_model()\n",
    "df.describe()"
   ]
  },
  {
   "cell_type": "markdown",
   "metadata": {},
   "source": [
    "## Exploratory Data Analysis"
   ]
  },
  {
   "cell_type": "code",
   "execution_count": 3,
   "metadata": {
    "collapsed": true
   },
   "outputs": [
    {
     "name": "stdout",
     "output_type": "stream",
     "text": [
      "initial number of tickets: 250306\n",
      "after droping na values: 159653\n"
     ]
    },
    {
     "name": "stderr",
     "output_type": "stream",
     "text": [
      "c:\\users\\c.lizarazosabogal\\appdata\\local\\programs\\python\\python35\\lib\\site-packages\\ipykernel_launcher.py:9: SettingWithCopyWarning: \n",
      "A value is trying to be set on a copy of a slice from a DataFrame\n",
      "\n",
      "See the caveats in the documentation: http://pandas.pydata.org/pandas-docs/stable/indexing.html#indexing-view-versus-copy\n",
      "  if __name__ == '__main__':\n"
     ]
    }
   ],
   "source": [
    "df1= df[ [\"violation_street_name\",\"ticket_issued_date\",\"hearing_date\",\"disposition\",\n",
    "          \"fine_amount\",\"discount_amount\",\n",
    "          \"judgment_amount\", \"compliance\"]]\n",
    "\n",
    "# recover as many violation_street_name as possible from comparing with census and lonlan dataset.\n",
    "#create two data sets one toe explore data the other one without compliance detail and drop data only on this one and after recovering street name\n",
    "print(\"initial number of tickets: {}\".format(len(df1)))\n",
    "print(\"after droping na values: {}\".format(len(df1.dropna())))\n",
    "df1.dropna(inplace=True)"
   ]
  },
  {
   "cell_type": "code",
   "execution_count": 4,
   "metadata": {
    "collapsed": true
   },
   "outputs": [
    {
     "name": "stderr",
     "output_type": "stream",
     "text": [
      "c:\\users\\c.lizarazosabogal\\appdata\\local\\programs\\python\\python35\\lib\\site-packages\\ipykernel_launcher.py:3: SettingWithCopyWarning: \n",
      "A value is trying to be set on a copy of a slice from a DataFrame.\n",
      "Try using .loc[row_indexer,col_indexer] = value instead\n",
      "\n",
      "See the caveats in the documentation: http://pandas.pydata.org/pandas-docs/stable/indexing.html#indexing-view-versus-copy\n",
      "  This is separate from the ipykernel package so we can avoid doing imports until\n",
      "c:\\users\\c.lizarazosabogal\\appdata\\local\\programs\\python\\python35\\lib\\site-packages\\ipykernel_launcher.py:4: SettingWithCopyWarning: \n",
      "A value is trying to be set on a copy of a slice from a DataFrame.\n",
      "Try using .loc[row_indexer,col_indexer] = value instead\n",
      "\n",
      "See the caveats in the documentation: http://pandas.pydata.org/pandas-docs/stable/indexing.html#indexing-view-versus-copy\n",
      "  after removing the cwd from sys.path.\n",
      "c:\\users\\c.lizarazosabogal\\appdata\\local\\programs\\python\\python35\\lib\\site-packages\\pandas\\core\\frame.py:3940: SettingWithCopyWarning: \n",
      "A value is trying to be set on a copy of a slice from a DataFrame\n",
      "\n",
      "See the caveats in the documentation: http://pandas.pydata.org/pandas-docs/stable/indexing.html#indexing-view-versus-copy\n",
      "  errors=errors)\n"
     ]
    }
   ],
   "source": [
    "# time interval between hearing and ticket issued date\n",
    "\n",
    "df1[\"ticket_issued_date\"] = pd.to_datetime(df1[\"ticket_issued_date\"])# similar-> df1[\"ticket_issued_date\"].astype(\"datetime64[D]\")\n",
    "df1[\"hearing_date\"]=pd.to_datetime(df1[\"hearing_date\"])\n",
    "#df1[\"interval_hearing_ticket\"] = df1.hearing_date - df1.ticket_issued_date\n",
    "#df1[\"interval_hearing_ticket\"] = df1[\"interval_hearing_ticket\"].apply(lambda x: x.days)\n",
    "#df1.drop(df1[ df1.interval_hearing_ticket<0].index, inplace=True)#makes no sense when hearing date before ticket_issued_date\n",
    "df1.drop(columns=[\"hearing_date\",\"ticket_issued_date\"],inplace=True)"
   ]
  },
  {
   "cell_type": "code",
   "execution_count": 11,
   "metadata": {},
   "outputs": [
    {
     "name": "stderr",
     "output_type": "stream",
     "text": [
      "c:\\users\\c.lizarazosabogal\\appdata\\local\\programs\\python\\python35\\lib\\site-packages\\ipykernel_launcher.py:1: SettingWithCopyWarning: \n",
      "A value is trying to be set on a copy of a slice from a DataFrame.\n",
      "Try using .loc[row_indexer,col_indexer] = value instead\n",
      "\n",
      "See the caveats in the documentation: http://pandas.pydata.org/pandas-docs/stable/indexing.html#indexing-view-versus-copy\n",
      "  \"\"\"Entry point for launching an IPython kernel.\n"
     ]
    },
    {
     "data": {
      "text/html": [
       "<div>\n",
       "<style scoped>\n",
       "    .dataframe tbody tr th:only-of-type {\n",
       "        vertical-align: middle;\n",
       "    }\n",
       "\n",
       "    .dataframe tbody tr th {\n",
       "        vertical-align: top;\n",
       "    }\n",
       "\n",
       "    .dataframe thead th {\n",
       "        text-align: right;\n",
       "    }\n",
       "</style>\n",
       "<table border=\"1\" class=\"dataframe\">\n",
       "  <thead>\n",
       "    <tr style=\"text-align: right;\">\n",
       "      <th></th>\n",
       "      <th>violation_street_name</th>\n",
       "      <th>fine_amount</th>\n",
       "      <th>discount_amount</th>\n",
       "      <th>judgment_amount</th>\n",
       "      <th>compliance</th>\n",
       "      <th>disposition_Responsible (Fine Waived) by Deter</th>\n",
       "      <th>disposition_Responsible by Admission</th>\n",
       "      <th>disposition_Responsible by Default</th>\n",
       "      <th>disposition_Responsible by Determination</th>\n",
       "    </tr>\n",
       "    <tr>\n",
       "      <th>ticket_id</th>\n",
       "      <th></th>\n",
       "      <th></th>\n",
       "      <th></th>\n",
       "      <th></th>\n",
       "      <th></th>\n",
       "      <th></th>\n",
       "      <th></th>\n",
       "      <th></th>\n",
       "      <th></th>\n",
       "    </tr>\n",
       "  </thead>\n",
       "  <tbody>\n",
       "    <tr>\n",
       "      <th>22056</th>\n",
       "      <td>TYLER</td>\n",
       "      <td>250.0</td>\n",
       "      <td>0.0</td>\n",
       "      <td>305.0</td>\n",
       "      <td>0.0</td>\n",
       "      <td>0</td>\n",
       "      <td>0</td>\n",
       "      <td>1</td>\n",
       "      <td>0</td>\n",
       "    </tr>\n",
       "    <tr>\n",
       "      <th>27586</th>\n",
       "      <td>CENTRAL</td>\n",
       "      <td>750.0</td>\n",
       "      <td>0.0</td>\n",
       "      <td>855.0</td>\n",
       "      <td>1.0</td>\n",
       "      <td>0</td>\n",
       "      <td>0</td>\n",
       "      <td>0</td>\n",
       "      <td>1</td>\n",
       "    </tr>\n",
       "    <tr>\n",
       "      <th>22046</th>\n",
       "      <td>NORTHFIELD</td>\n",
       "      <td>250.0</td>\n",
       "      <td>0.0</td>\n",
       "      <td>305.0</td>\n",
       "      <td>0.0</td>\n",
       "      <td>0</td>\n",
       "      <td>0</td>\n",
       "      <td>1</td>\n",
       "      <td>0</td>\n",
       "    </tr>\n",
       "    <tr>\n",
       "      <th>18738</th>\n",
       "      <td>BRENTWOOD</td>\n",
       "      <td>750.0</td>\n",
       "      <td>0.0</td>\n",
       "      <td>855.0</td>\n",
       "      <td>0.0</td>\n",
       "      <td>0</td>\n",
       "      <td>0</td>\n",
       "      <td>1</td>\n",
       "      <td>0</td>\n",
       "    </tr>\n",
       "    <tr>\n",
       "      <th>18735</th>\n",
       "      <td>MT ELLIOTT</td>\n",
       "      <td>100.0</td>\n",
       "      <td>0.0</td>\n",
       "      <td>140.0</td>\n",
       "      <td>0.0</td>\n",
       "      <td>0</td>\n",
       "      <td>0</td>\n",
       "      <td>1</td>\n",
       "      <td>0</td>\n",
       "    </tr>\n",
       "  </tbody>\n",
       "</table>\n",
       "</div>"
      ],
      "text/plain": [
       "          violation_street_name  fine_amount  discount_amount  \\\n",
       "ticket_id                                                       \n",
       "22056                     TYLER        250.0              0.0   \n",
       "27586                   CENTRAL        750.0              0.0   \n",
       "22046                NORTHFIELD        250.0              0.0   \n",
       "18738                 BRENTWOOD        750.0              0.0   \n",
       "18735                MT ELLIOTT        100.0              0.0   \n",
       "\n",
       "           judgment_amount  compliance  \\\n",
       "ticket_id                                \n",
       "22056                305.0         0.0   \n",
       "27586                855.0         1.0   \n",
       "22046                305.0         0.0   \n",
       "18738                855.0         0.0   \n",
       "18735                140.0         0.0   \n",
       "\n",
       "           disposition_Responsible (Fine Waived) by Deter  \\\n",
       "ticket_id                                                   \n",
       "22056                                                   0   \n",
       "27586                                                   0   \n",
       "22046                                                   0   \n",
       "18738                                                   0   \n",
       "18735                                                   0   \n",
       "\n",
       "           disposition_Responsible by Admission  \\\n",
       "ticket_id                                         \n",
       "22056                                         0   \n",
       "27586                                         0   \n",
       "22046                                         0   \n",
       "18738                                         0   \n",
       "18735                                         0   \n",
       "\n",
       "           disposition_Responsible by Default  \\\n",
       "ticket_id                                       \n",
       "22056                                       1   \n",
       "27586                                       0   \n",
       "22046                                       1   \n",
       "18738                                       1   \n",
       "18735                                       1   \n",
       "\n",
       "           disposition_Responsible by Determination  \n",
       "ticket_id                                            \n",
       "22056                                             0  \n",
       "27586                                             1  \n",
       "22046                                             0  \n",
       "18738                                             0  \n",
       "18735                                             0  "
      ]
     },
     "execution_count": 11,
     "metadata": {},
     "output_type": "execute_result"
    }
   ],
   "source": [
    "df1[\"disposition\"] = df1[\"disposition\"].astype(\"category\")\n",
    "df1_dummy = pd.get_dummies(df1,prefix=\"disposition\",columns=[\"disposition\"])\n",
    "#list(df1[\"disposition\"].unique())\n",
    "df1_dummy.head(5)"
   ]
  },
  {
   "cell_type": "code",
   "execution_count": null,
   "metadata": {},
   "outputs": [],
   "source": [
    "# encoding non-numerical variables\n",
    "encoding_lists =[]\n",
    "non_numerical_vars = [\"disposition\",\"violation_street_name\"]\n",
    "for i in non_numerical_vars:\n",
    "    encoding_list = list(enumerate( df1[i].unique() ))\n",
    "    encoding_lists.append(  encoding_list  )\n",
    "    df1[i] = df1[i].apply(  lambda x: [y[0] for y in encoding_list if y[1]==x][0]  )"
   ]
  },
  {
   "cell_type": "code",
   "execution_count": null,
   "metadata": {},
   "outputs": [],
   "source": [
    "##      # mapping disposition categories (to num labels) \n",
    "##      disposition_lookup = list(enumerate(df1.disposition.unique()))\n",
    "##      lookup_func = lambda x: [y[0] for y in disposition_lookup if y[1]==x][0]\n",
    "##      df1[\"disposition\"] = df1[\"disposition\"].apply( lookup_func ) \n",
    "##      # mapping compliance_detail\n",
    "##      compliance_detail_lookup = list(enumerate(df1.compliance_detail.unique()))\n",
    "##      lookup_func_cd = lambda x: [y[0] for y in compliance_detail_lookup if y[1]==x][0]\n",
    "##      df1[\"compliance_detail\"] = df1[\"compliance_detail\"].apply( lookup_func_cd ) \n",
    "##      # mapping street name \n",
    "##      violation_street_name_lookup = list(enumerate(df1.violation_street_name.unique()))\n",
    "##      lookup_func_vs = lambda x: [y[0] for y in violation_street_name_lookup if y[1]==x][0]\n",
    "##      df1[\"violation_street_name\"] = df1[\"violation_street_name\"].apply( lookup_func_vs ) \n",
    "##      #categorical functions\n",
    "##      #for i in [\"violation_street_name\",\"compliance\",\"compliance_detail\"]:\n",
    "##      #    df1[i]=df1[i].astype(\"category\")\n",
    "##      df1[\"compliance\"] = df1[\"compliance\"].astype(\"str\").astype(\"category\")"
   ]
  },
  {
   "cell_type": "code",
   "execution_count": null,
   "metadata": {},
   "outputs": [],
   "source": [
    "df1.head(5)"
   ]
  },
  {
   "cell_type": "code",
   "execution_count": null,
   "metadata": {},
   "outputs": [],
   "source": [
    "print(df1.dtypes)\n",
    "df1.describe()"
   ]
  },
  {
   "cell_type": "code",
   "execution_count": 13,
   "metadata": {},
   "outputs": [],
   "source": [
    "#vars_to_plot = [\"fine_amount\",\"discount_amount\",\"judgment_amount\",\"interval_hearing_ticket\",\"compliance_detail\",\"disposition\"]\n",
    "#vars_for_model = [\"fine_amount\",\"discount_amount\",\"judgment_amount\",\"interval_hearing_ticket\",\"violation_street_name\",\"disposition\"]\n",
    "#vars_for_model = [\"fine_amount\",\"discount_amount\",\"judgment_amount\",\"violation_street_name\",\"disposition\"]\n",
    "#vars_for_model = [\"fine_amount\",\"discount_amount\",\"judgment_amount\",\"violation_street_name\",\"disposition\"]\n",
    "vars_for_model = [\"fine_amount\",\"discount_amount\",\"judgment_amount\",\"disposition\"]"
   ]
  },
  {
   "cell_type": "code",
   "execution_count": null,
   "metadata": {},
   "outputs": [],
   "source": [
    "import seaborn as sns\n",
    "%matplotlib notebook\n",
    "sns.set(style=\"ticks\")\n",
    "sns.pairplot(df1,vars=vars_for_model,diag_kind=\"hist\",hue=\"compliance\")"
   ]
  },
  {
   "cell_type": "code",
   "execution_count": null,
   "metadata": {},
   "outputs": [],
   "source": [
    "#sns.kdeplot(df1.interval_hearing_ticket)\n",
    "#plt.gca().set_yscale('log')\n",
    "sns.catplot(x=\"compliance\", kind=\"count\", edgecolor=\".6\", data=df1);"
   ]
  },
  {
   "cell_type": "markdown",
   "metadata": {},
   "source": [
    "## street names and lat-log indexed  by ticket_id"
   ]
  },
  {
   "cell_type": "code",
   "execution_count": null,
   "metadata": {},
   "outputs": [],
   "source": [
    "dfa = pd.read_csv(\"addresses.csv\")\n",
    "dfa.dropna(inplace=True)\n",
    "print(len(dfa))\n",
    "street_parser = lambda x:  x.split(\",\")[0].split(\" \")[1].strip()\n",
    "address_parser = lambda x: x.split(\",\")[0].strip()\n",
    "dfa[\"street\"] = dfa[\"address\"].apply(street_parser)\n",
    "dfa[\"address\"] = dfa[\"address\"].apply(address_parser)\n",
    "dfa.head(3)\n",
    "#ctiy var not usea, unique value is Detroit\n",
    "#city_parser   = lambda x : x.split(\",\")[1].strip().split(\" \")[0]\n",
    "#dfa[\"city\"]   = dfa[\"address\"].apply( city_parser )\n",
    "#len(dfa.street.unique())"
   ]
  },
  {
   "cell_type": "code",
   "execution_count": null,
   "metadata": {},
   "outputs": [],
   "source": [
    "dflalo = pd.read_csv(\"latlons.csv\")\n",
    "dflalo.dropna(inplace=True)\n",
    "dflalo[\"street\"]=dflalo[\"address\"].apply(street_parser)\n",
    "dflalo[\"address\"]=dflalo[\"address\"].apply(address_parser)\n",
    "print(len(dflalo) )\n",
    "dflalo.head(3)"
   ]
  },
  {
   "cell_type": "code",
   "execution_count": null,
   "metadata": {},
   "outputs": [],
   "source": [
    "print(  \"Number of different street names in adresses csv: {}\".format(len(dfa.street.unique())) )\n",
    "print(  \"Number of different street names in latlon  csv: {}\".format(len(dflalo.street.unique())) )\n",
    "print(  \"Number of different street names in train data set: {}\".format(len(df1.violation_street_name.unique())) )"
   ]
  },
  {
   "cell_type": "code",
   "execution_count": null,
   "metadata": {},
   "outputs": [],
   "source": [
    "df_spatial = dfa.set_index(\"address\").join(dflalo.set_index(\"address\"),how=\"left\",lsuffix='_caller', rsuffix='_other')\n",
    "df_spatial.dropna(inplace=True)\n",
    "len(df_spatial)"
   ]
  },
  {
   "cell_type": "markdown",
   "metadata": {},
   "source": [
    "## Model Creation"
   ]
  },
  {
   "cell_type": "code",
   "execution_count": null,
   "metadata": {},
   "outputs": [],
   "source": [
    "#model_selection\n",
    "from sklearn.model_selection import train_test_split\n",
    "from sklearn.model_selection import cross_val_score\n",
    "from sklearn.model_selection import GridSearchCV\n",
    "\n",
    "#preprocessing\n",
    "from sklearn.preprocessing import MinMaxScaler\n",
    "from sklearn.preprocessing import PolynomialFeatures\n",
    "\n",
    "#models\n",
    "from sklearn.linear_model import LogisticRegression\n",
    "from sklearn.svm import SVC\n",
    "from sklearn.tree import DecisionTreeClassifier\n",
    "from sklearn.ensemble import GradientBoostingClassifier\n",
    "from sklearn.ensemble import RandomForestClassifier\n",
    "\n",
    "#metric chosen AUC\n",
    "from sklearn.metrics import roc_curve, auc, roc_auc_score"
   ]
  },
  {
   "cell_type": "markdown",
   "metadata": {},
   "source": [
    "### Simplest 0:  Logistic classifier  1-cv fold "
   ]
  },
  {
   "cell_type": "code",
   "execution_count": null,
   "metadata": {},
   "outputs": [],
   "source": [
    "#vars_for_model.append(\"compliance\")\n",
    "print(vars_for_model)\n",
    "#df1.columns"
   ]
  },
  {
   "cell_type": "code",
   "execution_count": null,
   "metadata": {},
   "outputs": [],
   "source": [
    "X = df1[vars_for_model].values #as_matrix();\n",
    "y = df1[\"compliance\"].values    #.as_matrix()\n",
    "\n",
    "X_train, X_test, y_train, y_test = train_test_split(X,y,random_state=0)\n",
    "\n",
    "print(\"y_1/y0 full data: {}\".format(sum(y==1)/sum(y==0)))\n",
    "print(\"y_1/y0 train    : {}\".format(sum(y_train==1)/sum(y_train==0)))\n",
    "print(\"y_1/y0 test     : {}\".format(sum(y_test==1)/sum(y_test==0)))\n",
    "#Conclusion: scikit learn handels and homogeneous distribution of the data\n",
    "\n",
    "scaler=MinMaxScaler().fit(X_train)\n",
    "\n",
    "X_train_scaled = scaler.transform(X_train)\n",
    "X_test_scaled  = scaler.transform(X_test)\n",
    "\n",
    "logic_reg = LogisticRegression()"
   ]
  },
  {
   "cell_type": "code",
   "execution_count": null,
   "metadata": {},
   "outputs": [],
   "source": [
    "#np.shape(X_train)\n",
    "#print(X_train[:1])\n",
    "#print(X_train_scaled[:1])"
   ]
  },
  {
   "cell_type": "code",
   "execution_count": null,
   "metadata": {},
   "outputs": [],
   "source": [
    "grid_values = {'C': [0.01, 0.1, 1, 10, 100, 150, 200], 'penalty':['l1','l2']}\n",
    "grid_clf = GridSearchCV(logic_reg,param_grid=grid_values,scoring='roc_auc',n_jobs=-1)\n",
    "\n",
    "# alternative metric to optimize over grid parameters: AUC\n",
    "grid_clf.fit(X_train_scaled, y_train)\n",
    "y_decision_fn_scores_auc = grid_clf.decision_function(X_test_scaled) \n",
    "\n",
    "print('Test set AUC: ', roc_auc_score(y_test, y_decision_fn_scores_auc))\n",
    "print('Grid best score (AUC): ', grid_clf.best_score_)"
   ]
  },
  {
   "cell_type": "code",
   "execution_count": null,
   "metadata": {},
   "outputs": [],
   "source": [
    "y_pred= grid_clf.predict(X_test_scaled)\n",
    "print(grid_clf.best_params_)\n",
    "print(classification_report(y_test,y_pred))"
   ]
  },
  {
   "cell_type": "markdown",
   "metadata": {},
   "source": [
    "# Test data"
   ]
  },
  {
   "cell_type": "code",
   "execution_count": 14,
   "metadata": {},
   "outputs": [],
   "source": [
    "################### prepare test set ################################\n",
    "df_cv = pd.read_csv(\"test.csv\",index_col=\"ticket_id\", encoding = \"ISO-8859-1\") \n",
    "#df1_cv = df[ [\"violation_street_name\",\"disposition\",\"fine_amount\",\"discount_amount\", \"judgment_amount\"]]\n",
    "                    #\"ticket_issued_date\",\"hearing_date\",\n",
    "df1_cv = df[vars_for_model]\n",
    "    # time interval between hearing and ticket issued date\n",
    "    #df1_cv[\"ticket_issued_date\"] = pd.to_datetime(df1_cv[\"ticket_issued_date\"])\n",
    "    #df1_cv[\"hearing_date\"]=pd.to_datetime(df1_cv[\"hearing_date\"])\n",
    "    #df1_cv[\"interval_hearing_ticket\"] = df1_cv.hearing_date - df1_cv.ticket_issued_date\n",
    "    #df1_cv[\"interval_hearing_ticket\"] = df1_cv[\"interval_hearing_ticket\"].apply(lambda x: x.days)\n",
    "    #df1_test.drop(columns=[\"hearing_date\",\"ticket_issued_date\"],inplace=True)"
   ]
  },
  {
   "cell_type": "code",
   "execution_count": 31,
   "metadata": {},
   "outputs": [
    {
     "name": "stderr",
     "output_type": "stream",
     "text": [
      "c:\\users\\c.lizarazosabogal\\appdata\\local\\programs\\python\\python35\\lib\\site-packages\\ipykernel_launcher.py:1: SettingWithCopyWarning: \n",
      "A value is trying to be set on a copy of a slice from a DataFrame.\n",
      "Try using .loc[row_indexer,col_indexer] = value instead\n",
      "\n",
      "See the caveats in the documentation: http://pandas.pydata.org/pandas-docs/stable/indexing.html#indexing-view-versus-copy\n",
      "  \"\"\"Entry point for launching an IPython kernel.\n"
     ]
    }
   ],
   "source": [
    "df1_cv[\"disposition\"] = df1_cv[\"disposition\"].astype(\"category\")\n",
    "df1_cv_dummy = pd.get_dummies(df1_cv,prefix=\"disposition\",columns=[\"disposition\"])\n",
    "df1_cv_dummy.head(5)\n",
    "\n",
    "df1.columns.tolist().remove(\"compliance\")"
   ]
  },
  {
   "cell_type": "code",
   "execution_count": 26,
   "metadata": {
    "collapsed": true
   },
   "outputs": [
    {
     "name": "stdout",
     "output_type": "stream",
     "text": [
      "############# columns df train: \n",
      "violation_street_name\n",
      "fine_amount\n",
      "discount_amount\n",
      "judgment_amount\n",
      "compliance\n",
      "disposition_Responsible (Fine Waived) by Deter\n",
      "disposition_Responsible by Admission\n",
      "disposition_Responsible by Default\n",
      "disposition_Responsible by Determination\n",
      "############# columns df test: \n",
      "fine_amount\n",
      "discount_amount\n",
      "judgment_amount\n",
      "disposition_Not responsible by City Dismissal\n",
      "disposition_Not responsible by Determination\n",
      "disposition_Not responsible by Dismissal\n",
      "disposition_PENDING JUDGMENT\n",
      "disposition_Responsible (Fine Waived) by Deter\n",
      "disposition_Responsible by Admission\n",
      "disposition_Responsible by Default\n",
      "disposition_Responsible by Determination\n",
      "disposition_SET-ASIDE (PENDING JUDGMENT)\n"
     ]
    }
   ],
   "source": [
    "print(\"############# columns df train: \")\n",
    "for i in df1_dummy.columns.to_list(): print(i)\n",
    "print(\"############# columns df test: \")\n",
    "for i in df1_cv_dummy.columns.to_list():print(i)\n",
    "#df1_cv[df1_dummy.columns]\n",
    "df1_cv_dummy[ df1_dummy.columns.to_list() ]"
   ]
  },
  {
   "cell_type": "code",
   "execution_count": 27,
   "metadata": {},
   "outputs": [
    {
     "ename": "KeyError",
     "evalue": "\"['violation_street_name', 'compliance'] not in index\"",
     "output_type": "error",
     "traceback": [
      "\u001b[1;31m---------------------------------------------------------------------------\u001b[0m",
      "\u001b[1;31mKeyError\u001b[0m                                  Traceback (most recent call last)",
      "\u001b[1;32m<ipython-input-27-7bf9a75491d2>\u001b[0m in \u001b[0;36m<module>\u001b[1;34m()\u001b[0m\n\u001b[1;32m----> 1\u001b[1;33m \u001b[0mdf1_cv_dummy\u001b[0m\u001b[1;33m[\u001b[0m \u001b[0mdf1_dummy\u001b[0m\u001b[1;33m.\u001b[0m\u001b[0mcolumns\u001b[0m\u001b[1;33m.\u001b[0m\u001b[0mto_list\u001b[0m\u001b[1;33m(\u001b[0m\u001b[1;33m)\u001b[0m \u001b[1;33m]\u001b[0m\u001b[1;33m\u001b[0m\u001b[0m\n\u001b[0m",
      "\u001b[1;32mc:\\users\\c.lizarazosabogal\\appdata\\local\\programs\\python\\python35\\lib\\site-packages\\pandas\\core\\frame.py\u001b[0m in \u001b[0;36m__getitem__\u001b[1;34m(self, key)\u001b[0m\n\u001b[0;32m   2932\u001b[0m                 \u001b[0mkey\u001b[0m \u001b[1;33m=\u001b[0m \u001b[0mlist\u001b[0m\u001b[1;33m(\u001b[0m\u001b[0mkey\u001b[0m\u001b[1;33m)\u001b[0m\u001b[1;33m\u001b[0m\u001b[0m\n\u001b[0;32m   2933\u001b[0m             indexer = self.loc._convert_to_indexer(key, axis=1,\n\u001b[1;32m-> 2934\u001b[1;33m                                                    raise_missing=True)\n\u001b[0m\u001b[0;32m   2935\u001b[0m \u001b[1;33m\u001b[0m\u001b[0m\n\u001b[0;32m   2936\u001b[0m         \u001b[1;31m# take() does not accept boolean indexers\u001b[0m\u001b[1;33m\u001b[0m\u001b[1;33m\u001b[0m\u001b[0m\n",
      "\u001b[1;32mc:\\users\\c.lizarazosabogal\\appdata\\local\\programs\\python\\python35\\lib\\site-packages\\pandas\\core\\indexing.py\u001b[0m in \u001b[0;36m_convert_to_indexer\u001b[1;34m(self, obj, axis, is_setter, raise_missing)\u001b[0m\n\u001b[0;32m   1352\u001b[0m                 kwargs = {'raise_missing': True if is_setter else\n\u001b[0;32m   1353\u001b[0m                           raise_missing}\n\u001b[1;32m-> 1354\u001b[1;33m                 \u001b[1;32mreturn\u001b[0m \u001b[0mself\u001b[0m\u001b[1;33m.\u001b[0m\u001b[0m_get_listlike_indexer\u001b[0m\u001b[1;33m(\u001b[0m\u001b[0mobj\u001b[0m\u001b[1;33m,\u001b[0m \u001b[0maxis\u001b[0m\u001b[1;33m,\u001b[0m \u001b[1;33m**\u001b[0m\u001b[0mkwargs\u001b[0m\u001b[1;33m)\u001b[0m\u001b[1;33m[\u001b[0m\u001b[1;36m1\u001b[0m\u001b[1;33m]\u001b[0m\u001b[1;33m\u001b[0m\u001b[0m\n\u001b[0m\u001b[0;32m   1355\u001b[0m         \u001b[1;32melse\u001b[0m\u001b[1;33m:\u001b[0m\u001b[1;33m\u001b[0m\u001b[0m\n\u001b[0;32m   1356\u001b[0m             \u001b[1;32mtry\u001b[0m\u001b[1;33m:\u001b[0m\u001b[1;33m\u001b[0m\u001b[0m\n",
      "\u001b[1;32mc:\\users\\c.lizarazosabogal\\appdata\\local\\programs\\python\\python35\\lib\\site-packages\\pandas\\core\\indexing.py\u001b[0m in \u001b[0;36m_get_listlike_indexer\u001b[1;34m(self, key, axis, raise_missing)\u001b[0m\n\u001b[0;32m   1159\u001b[0m         self._validate_read_indexer(keyarr, indexer,\n\u001b[0;32m   1160\u001b[0m                                     \u001b[0mo\u001b[0m\u001b[1;33m.\u001b[0m\u001b[0m_get_axis_number\u001b[0m\u001b[1;33m(\u001b[0m\u001b[0maxis\u001b[0m\u001b[1;33m)\u001b[0m\u001b[1;33m,\u001b[0m\u001b[1;33m\u001b[0m\u001b[0m\n\u001b[1;32m-> 1161\u001b[1;33m                                     raise_missing=raise_missing)\n\u001b[0m\u001b[0;32m   1162\u001b[0m         \u001b[1;32mreturn\u001b[0m \u001b[0mkeyarr\u001b[0m\u001b[1;33m,\u001b[0m \u001b[0mindexer\u001b[0m\u001b[1;33m\u001b[0m\u001b[0m\n\u001b[0;32m   1163\u001b[0m \u001b[1;33m\u001b[0m\u001b[0m\n",
      "\u001b[1;32mc:\\users\\c.lizarazosabogal\\appdata\\local\\programs\\python\\python35\\lib\\site-packages\\pandas\\core\\indexing.py\u001b[0m in \u001b[0;36m_validate_read_indexer\u001b[1;34m(self, key, indexer, axis, raise_missing)\u001b[0m\n\u001b[0;32m   1250\u001b[0m             \u001b[1;32mif\u001b[0m \u001b[1;32mnot\u001b[0m\u001b[1;33m(\u001b[0m\u001b[0mself\u001b[0m\u001b[1;33m.\u001b[0m\u001b[0mname\u001b[0m \u001b[1;33m==\u001b[0m \u001b[1;34m'loc'\u001b[0m \u001b[1;32mand\u001b[0m \u001b[1;32mnot\u001b[0m \u001b[0mraise_missing\u001b[0m\u001b[1;33m)\u001b[0m\u001b[1;33m:\u001b[0m\u001b[1;33m\u001b[0m\u001b[0m\n\u001b[0;32m   1251\u001b[0m                 \u001b[0mnot_found\u001b[0m \u001b[1;33m=\u001b[0m \u001b[0mlist\u001b[0m\u001b[1;33m(\u001b[0m\u001b[0mset\u001b[0m\u001b[1;33m(\u001b[0m\u001b[0mkey\u001b[0m\u001b[1;33m)\u001b[0m \u001b[1;33m-\u001b[0m \u001b[0mset\u001b[0m\u001b[1;33m(\u001b[0m\u001b[0max\u001b[0m\u001b[1;33m)\u001b[0m\u001b[1;33m)\u001b[0m\u001b[1;33m\u001b[0m\u001b[0m\n\u001b[1;32m-> 1252\u001b[1;33m                 \u001b[1;32mraise\u001b[0m \u001b[0mKeyError\u001b[0m\u001b[1;33m(\u001b[0m\u001b[1;34m\"{} not in index\"\u001b[0m\u001b[1;33m.\u001b[0m\u001b[0mformat\u001b[0m\u001b[1;33m(\u001b[0m\u001b[0mnot_found\u001b[0m\u001b[1;33m)\u001b[0m\u001b[1;33m)\u001b[0m\u001b[1;33m\u001b[0m\u001b[0m\n\u001b[0m\u001b[0;32m   1253\u001b[0m \u001b[1;33m\u001b[0m\u001b[0m\n\u001b[0;32m   1254\u001b[0m             \u001b[1;31m# we skip the warning on Categorical/Interval\u001b[0m\u001b[1;33m\u001b[0m\u001b[1;33m\u001b[0m\u001b[0m\n",
      "\u001b[1;31mKeyError\u001b[0m: \"['violation_street_name', 'compliance'] not in index\""
     ]
    }
   ],
   "source": [
    "df1_cv_dummy[ df1_dummy.columns.to_list() ]"
   ]
  },
  {
   "cell_type": "code",
   "execution_count": null,
   "metadata": {},
   "outputs": [],
   "source": [
    "    # encoding non-numerical variables\n",
    "encoding_lists_cv =[]\n",
    "#non_numerical_vars = [\"violation_street_name\",\"disposition\"]\n",
    "non_numerical_vars = [\"disposition\"]\n",
    "for i in non_numerical_vars:\n",
    "    encoding_list = list(enumerate( df1_cv[i].unique() ))\n",
    "    encoding_lists_cv.append(  encoding_list  )\n",
    "    df1_cv[i] = df1_cv[i].apply(  lambda x: [y[0] for y in encoding_list if y[1]==x][0]  )\n",
    "###################################################################\n",
    "X_cv = df1_cv[vars_for_model].values \n",
    "#scaler=MinMaxScaler().fit(X_cv)\n",
    "#X_cv_scaled = scaler.transform(X_cv)\n",
    "#y_cv_prob   = grid_clf.predict_proba(X_cv_scaled)\n",
    "#y_cv_prob   = y_cv_prob[:,1]\n",
    "    "
   ]
  },
  {
   "cell_type": "code",
   "execution_count": null,
   "metadata": {},
   "outputs": [],
   "source": [
    "for i in non_numerical_vars:\n",
    "    print(\"Trainset unique elements {}: {}\".format(i,len(list(df1[i].unique()))))\n",
    "    print(\"Testset  unique elements {}: {}\".format(i,len(list(df1_cv[i].unique()))))\n",
    "    "
   ]
  },
  {
   "cell_type": "code",
   "execution_count": null,
   "metadata": {},
   "outputs": [],
   "source": [
    "print(\"##### disposition values for df1_cv\")\n",
    "for i in encoding_lists_cv[0]: print(i)\n",
    "print(\"#####  disposition values for df1\")\n",
    "for i in encoding_lists[0]: print(i)"
   ]
  },
  {
   "cell_type": "markdown",
   "metadata": {},
   "source": [
    "### figuring out nas  of each column of test data, and filling them:"
   ]
  },
  {
   "cell_type": "code",
   "execution_count": null,
   "metadata": {},
   "outputs": [],
   "source": [
    "\n",
    "len_df_cv = len(df1_cv)\n",
    "for i in df1_cv.columns:\n",
    "    print(i)\n",
    "    nas_var_i = df1_cv[i].isna().sum()\n",
    "    print(\"{}, {}%\".format(nas_var_i, int(nas_var_i/len_df_cv*100)))"
   ]
  },
  {
   "cell_type": "code",
   "execution_count": null,
   "metadata": {},
   "outputs": [],
   "source": [
    "df1_cv[ df1_cv[\"fine_amount\"].isnull()==True  ]"
   ]
  },
  {
   "cell_type": "code",
   "execution_count": null,
   "metadata": {},
   "outputs": [],
   "source": [
    "df1_cv[\"fine_amount\"].fillna(0)\n",
    "df1_cv.loc[105992]"
   ]
  },
  {
   "cell_type": "markdown",
   "metadata": {},
   "source": [
    "### Playing with get_dummies method"
   ]
  },
  {
   "cell_type": "code",
   "execution_count": null,
   "metadata": {},
   "outputs": [],
   "source": [
    "df_toy = pd.DataFrame({'A': ['a', 'b', 'a'], 'B': ['b', 'a', 'c'],'C': [1, 2, 3]})\n",
    "df_toy"
   ]
  },
  {
   "cell_type": "code",
   "execution_count": null,
   "metadata": {},
   "outputs": [],
   "source": [
    "pd.get_dummies(df, prefix=['col1', 'col2'])"
   ]
  },
  {
   "cell_type": "markdown",
   "metadata": {},
   "source": [
    "### getting dummies for \"disposition\""
   ]
  },
  {
   "cell_type": "code",
   "execution_count": null,
   "metadata": {},
   "outputs": [],
   "source": [
    "df1[\"disposition\"] = df1[\"disposition\"].astype(\"category\")\n",
    "df1.dtypes"
   ]
  },
  {
   "cell_type": "code",
   "execution_count": null,
   "metadata": {},
   "outputs": [],
   "source": [
    "### for training data\n",
    "df1_dummy = pd.get_dummies(df1,prefix=\"disposition\")\n",
    "df1_dummy.head(5)"
   ]
  },
  {
   "cell_type": "code",
   "execution_count": null,
   "metadata": {},
   "outputs": [],
   "source": [
    "encoding_lists_cv[0]"
   ]
  },
  {
   "cell_type": "code",
   "execution_count": null,
   "metadata": {},
   "outputs": [],
   "source": []
  }
 ],
 "metadata": {
  "coursera": {
   "course_slug": "python-machine-learning",
   "graded_item_id": "nNS8l",
   "launcher_item_id": "yWWk7",
   "part_id": "w8BSS"
  },
  "kernelspec": {
   "display_name": "Python 3",
   "language": "python",
   "name": "python3"
  },
  "language_info": {
   "codemirror_mode": {
    "name": "ipython",
    "version": 3
   },
   "file_extension": ".py",
   "mimetype": "text/x-python",
   "name": "python",
   "nbconvert_exporter": "python",
   "pygments_lexer": "ipython3",
   "version": "3.6.7"
  }
 },
 "nbformat": 4,
 "nbformat_minor": 2
}
